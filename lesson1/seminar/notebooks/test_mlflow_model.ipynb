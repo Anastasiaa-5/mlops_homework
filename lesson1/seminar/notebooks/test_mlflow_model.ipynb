{
  "cells": [
    {
      "cell_type": "markdown",
      "metadata": {},
      "source": [
        "# 🧪 Тестирование модели из MLflow\n",
        "\n",
        "В этом ноутбуке мы:\n",
        "1. Загрузим модель из MLflow артефактов\n",
        "2. Сделаем предсказания на новых данных  \n",
        "3. Проверим метрики\n",
        "4. Визуализируем результаты\n"
      ]
    },
    {
      "cell_type": "code",
      "execution_count": null,
      "metadata": {},
      "outputs": [],
      "source": [
        "import mlflow\n",
        "import mlflow.sklearn\n",
        "import pandas as pd\n",
        "import numpy as np\n",
        "from sklearn.datasets import load_iris\n",
        "from sklearn.model_selection import train_test_split\n",
        "from sklearn.metrics import accuracy_score, f1_score, classification_report\n",
        "import matplotlib.pyplot as plt\n",
        "import seaborn as sns\n",
        "\n",
        "# Настройка MLflow\n",
        "mlflow.set_tracking_uri(\"file:./mlruns\")\n",
        "\n",
        "print(\"📦 Библиотеки загружены!\")\n"
      ]
    },
    {
      "cell_type": "markdown",
      "metadata": {},
      "source": [
        "## 🔍 1. Поиск последнего эксперимента\n"
      ]
    },
    {
      "cell_type": "code",
      "execution_count": null,
      "metadata": {},
      "outputs": [],
      "source": [
        "# Получаем информацию об экспериментах\n",
        "experiment = mlflow.get_experiment_by_name(\"lesson1-baseline\")\n",
        "if experiment:\n",
        "    print(f\"🎯 Найден эксперимент: {experiment.name}\")\n",
        "    print(f\"📁 ID: {experiment.experiment_id}\")\n",
        "    \n",
        "    # Получаем последний run\n",
        "    runs = mlflow.search_runs(\n",
        "        experiment_ids=[experiment.experiment_id],\n",
        "        order_by=[\"start_time desc\"],\n",
        "        max_results=1\n",
        "    )\n",
        "    \n",
        "    if not runs.empty:\n",
        "        latest_run = runs.iloc[0]\n",
        "        run_id = latest_run[\"run_id\"]\n",
        "        print(f\"🚀 Последний run: {run_id}\")\n",
        "        print(f\"📊 Accuracy: {latest_run['metrics.accuracy']:.4f}\")\n",
        "        print(f\"📊 F1-macro: {latest_run['metrics.f1_macro']:.4f}\")\n",
        "    else:\n",
        "        print(\"❌ Runs не найдены!\")\n",
        "else:\n",
        "    print(\"❌ Эксперимент не найден! Запустите сначала обучение.\")\n"
      ]
    },
    {
      "cell_type": "markdown",
      "metadata": {},
      "source": [
        "## 📥 2. Загрузка модели из MLflow\n"
      ]
    },
    {
      "cell_type": "code",
      "execution_count": null,
      "metadata": {},
      "outputs": [],
      "source": [
        "# Загружаем модель из артефактов MLflow\n",
        "model_uri = f\"runs:/{run_id}/model\"\n",
        "loaded_model = mlflow.sklearn.load_model(model_uri)\n",
        "\n",
        "print(f\"✅ Модель загружена из: {model_uri}\")\n",
        "print(f\"🤖 Тип модели: {type(loaded_model).__name__}\")\n",
        "print(f\"🔧 Параметры модели: {loaded_model.get_params()}\")\n"
      ]
    },
    {
      "cell_type": "markdown",
      "metadata": {},
      "source": [
        "## 🧪 3. Тестирование на данных\n"
      ]
    },
    {
      "cell_type": "code",
      "execution_count": null,
      "metadata": {},
      "outputs": [],
      "source": [
        "# Загружаем те же данные для тестирования\n",
        "iris = load_iris()\n",
        "X, y = iris.data, iris.target\n",
        "\n",
        "# Используем тот же split что и в обучении (seed=42)\n",
        "X_train, X_test, y_train, y_test = train_test_split(\n",
        "    X, y, test_size=0.2, random_state=42, stratify=y\n",
        ")\n",
        "\n",
        "# Делаем предсказания\n",
        "y_pred = loaded_model.predict(X_test)\n",
        "\n",
        "# Вычисляем метрики\n",
        "accuracy = accuracy_score(y_test, y_pred)\n",
        "f1 = f1_score(y_test, y_pred, average='macro')\n",
        "\n",
        "print(f\"🎯 Accuracy: {accuracy:.6f}\")\n",
        "print(f\"📊 F1-macro: {f1:.6f}\")\n",
        "print(f\"\\\\n📋 Детальный отчет:\")\n",
        "print(classification_report(y_test, y_pred, target_names=iris.target_names))\n"
      ]
    },
    {
      "cell_type": "markdown",
      "metadata": {},
      "source": [
        "## 🎯 Выводы\n",
        "\n",
        "✅ **Что мы проверили:**\n",
        "- Модель успешно загружается из MLflow артефактов\n",
        "- Результаты полностью воспроизводимы (детерминизм)\n",
        "- Модель работает на тестовых данных\n",
        "- Метрики соответствуют ожиданиям\n",
        "\n",
        "🎓 **Преимущества MLflow подхода:**\n",
        "- Модель хранится с метаданными\n",
        "- Легко загружать и использовать  \n",
        "- Версионирование автоматическое\n",
        "- Воспроизводимые результаты\n",
        "\n",
        "🔍 **Сравнение с простым подходом:**\n",
        "Попробуйте запустить `basic_train.py` несколько раз и сравните результаты!\n"
      ]
    }
  ],
  "metadata": {
    "language_info": {
      "name": "python"
    }
  },
  "nbformat": 4,
  "nbformat_minor": 2
}
